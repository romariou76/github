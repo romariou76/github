{
  "nbformat": 4,
  "nbformat_minor": 0,
  "metadata": {
    "colab": {
      "name": "Untitled0.ipynb",
      "provenance": [],
      "authorship_tag": "ABX9TyNhZlcxsavFtUJeiP+3fE/R",
      "include_colab_link": true
    },
    "kernelspec": {
      "name": "python3",
      "display_name": "Python 3"
    },
    "language_info": {
      "name": "python"
    }
  },
  "cells": [
    {
      "cell_type": "markdown",
      "metadata": {
        "id": "view-in-github",
        "colab_type": "text"
      },
      "source": [
        "<a href=\"https://colab.research.google.com/github/romariou76/github/blob/main/Untitled0.ipynb\" target=\"_parent\"><img src=\"https://colab.research.google.com/assets/colab-badge.svg\" alt=\"Open In Colab\"/></a>"
      ]
    },
    {
      "cell_type": "code",
      "execution_count": null,
      "metadata": {
        "id": "aefK0W6eVk8t"
      },
      "outputs": [],
      "source": [
        "import tensorflow as tf\n",
        "import pandas as pd\n",
        "import numpy as np\n",
        "import seaborn as sns\n",
        "import matplotlib.pyplot as plt\n",
        "\n",
        "#Importanto datos pe\n",
        "temperatura = pd.read_excel(\"celcius_fahrenheit.xlsx\")\n",
        "\n",
        "#Visualizacion de relacion C & F\n",
        "sns.scatterplot(temperatura['Celsius'], temperatura['Fahrenheit'])\n",
        "\n",
        "#Cargando Set de Datos\n",
        "X_train = temperatura['Celsius']\n",
        "Y_train = temperatura['Fahrenheit']\n",
        "\n",
        "#Creando el modelo\n",
        "model = tf.keras.Sequential()\n",
        "model.add(tf.keras.layers.Dense(units=1, input_shape=[1]))\n",
        "\n",
        "#model.summary()\n",
        "\n",
        "#Compilado\n",
        "model.compile(optimizer=tf.keras.optimizers.Adam(0.5), loss='mean_squared_error')\n",
        "\n",
        "#Entrenando el modelo / Regresion a fahrenheit\n",
        "epochs_hist = model.fit(X_train, Y_train, epochs = 100)\n",
        "\n",
        "#Evaluando modelo\n",
        "epochs_hist.history.keys()"
      ]
    },
    {
      "cell_type": "code",
      "source": [
        "#Grafico usando pyplot\n",
        "plt.plot(epochs_hist.history['loss'])\n",
        "plt.title('Progreso de Perdida durate Entrenamiento del Modelo')\n",
        "plt.xlabel('Epoch')\n",
        "plt.ylabel('Training loss')\n",
        "plt.legend('Training loss')\n",
        "\n",
        "model.get_weights()"
      ],
      "metadata": {
        "id": "GgKNuGGzma0v"
      },
      "execution_count": null,
      "outputs": []
    },
    {
      "cell_type": "code",
      "source": [
        "#Predicciones\n",
        "Temp_C = 0 \n",
        "Temp_F = model.predict([Temp_C])\n",
        "print(Temp_F)\n",
        "\n",
        "\n",
        "Temp_F = 9/5 * Temp_C +32\n",
        "print(Temp_F)"
      ],
      "metadata": {
        "colab": {
          "base_uri": "https://localhost:8080/"
        },
        "id": "f8mRf3rxoMtG",
        "outputId": "93728337-35ca-4104-d27e-98eb310085a0"
      },
      "execution_count": 23,
      "outputs": [
        {
          "output_type": "stream",
          "name": "stdout",
          "text": [
            "[[31.84737]]\n",
            "32.0\n"
          ]
        }
      ]
    }
  ]
}